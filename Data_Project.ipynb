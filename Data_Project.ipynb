{
  "nbformat": 4,
  "nbformat_minor": 0,
  "metadata": {
    "colab": {
      "name": "Data Project.ipynb",
      "provenance": [],
      "collapsed_sections": [],
      "include_colab_link": true
    },
    "kernelspec": {
      "name": "python3",
      "display_name": "Python 3"
    },
    "language_info": {
      "name": "python"
    }
  },
  "cells": [
    {
      "cell_type": "markdown",
      "metadata": {
        "id": "view-in-github",
        "colab_type": "text"
      },
      "source": [
        "<a href=\"https://colab.research.google.com/github/justdenz/mco2-technical-report/blob/main/Data_Project.ipynb\" target=\"_parent\"><img src=\"https://colab.research.google.com/assets/colab-badge.svg\" alt=\"Open In Colab\"/></a>"
      ]
    },
    {
      "cell_type": "code",
      "metadata": {
        "id": "b35Jc1dIESMn",
        "colab": {
          "base_uri": "https://localhost:8080/"
        },
        "outputId": "dc04917e-8305-4aac-c1a0-0e96be01137b"
      },
      "source": [
        "import os\n",
        "import math\n",
        "import pickle\n",
        "import random\n",
        "import pandas as pd\n",
        "import numpy as np\n",
        "import matplotlib.pyplot as plt\n",
        "import matplotlib.patches as mpatches\n",
        "from matplotlib.animation import FuncAnimation\n",
        "import seaborn as sns\n",
        "sns.set(font_scale=1.2)\n",
        "\n",
        "sns.set_style(\"darkgrid\")\n",
        "\n",
        "from datetime import datetime as dt\n",
        "from sklearn.feature_extraction.text import CountVectorizer\n",
        "from sklearn import preprocessing\n",
        "\n",
        "import statsmodels.api as sm\n",
        "import statsmodels.graphics as smg\n",
        "import statsmodels.stats as sm_stats\n",
        "import statsmodels.tsa.api as tsa\n",
        "\n",
        "from scipy import stats\n"
      ],
      "execution_count": null,
      "outputs": [
        {
          "output_type": "stream",
          "text": [
            "/usr/local/lib/python3.7/dist-packages/statsmodels/tools/_testing.py:19: FutureWarning: pandas.util.testing is deprecated. Use the functions in the public API at pandas.testing instead.\n",
            "  import pandas.util.testing as tm\n"
          ],
          "name": "stderr"
        }
      ]
    },
    {
      "cell_type": "code",
      "metadata": {
        "id": "2q-Eods9jVpE"
      },
      "source": [
        "import re\n",
        "from typing import List"
      ],
      "execution_count": null,
      "outputs": []
    },
    {
      "cell_type": "markdown",
      "metadata": {
        "id": "7CNPS57dt7bZ"
      },
      "source": [
        "# Dataset\n",
        "GitHub Commit Messages Dataset \n",
        "\n",
        "https://www.kaggle.com/dhruvildave/github-commit-messages-dataset"
      ]
    },
    {
      "cell_type": "markdown",
      "metadata": {
        "id": "dCPb7UWctQcG"
      },
      "source": [
        "Downloading the **modified** Github Commit Messages Dataset"
      ]
    },
    {
      "cell_type": "code",
      "metadata": {
        "id": "YIH2D9C4kF_q",
        "colab": {
          "base_uri": "https://localhost:8080/"
        },
        "outputId": "7241af0c-da69-494d-98df-ff3bf74c1516"
      },
      "source": [
        "!gdown https://drive.google.com/uc?id=1IT4IdOhTu3e6StB76iVAVBH4lnrvf_ys\n",
        "# !gdown https://drive.google.com/uc?id=1YuyNK-idGHj1-ltmGkRtok7ml7pP6c6E\n",
        "# !unzip github.zip"
      ],
      "execution_count": null,
      "outputs": [
        {
          "output_type": "stream",
          "text": [
            "Downloading...\n",
            "From: https://drive.google.com/uc?id=1IT4IdOhTu3e6StB76iVAVBH4lnrvf_ys\n",
            "To: /content/github_categories.csv\n",
            "2.50GB [00:23, 105MB/s] \n"
          ],
          "name": "stdout"
        }
      ]
    },
    {
      "cell_type": "markdown",
      "metadata": {
        "id": "miqy9D22v2-A"
      },
      "source": [
        "To determine what type of commit a message is, we had to **modify** the original dataset. Using this [reference](https://www.kaggle.com/amarabuco/commits-eda#Commit-Classification), we added the ‘category’ column, which corresponds to the commit type by running the commit message through a series of regex and keyword matching functions run sequentially, not parallel. With this, we were able to categorize the commits into 5 categories of commit types:\n",
        "\n",
        "*   Security - security breaches or compromises\n",
        "*   Fix - fixes, failures, faults, errors\n",
        "*   Refactor - remove, cleaning, reorganizing, polishing\n",
        "*   Bug - core bugs\n",
        "*   Other - additions, new features, updates, upgrades"
      ]
    },
    {
      "cell_type": "markdown",
      "metadata": {
        "id": "UGLHCIMmxYc5"
      },
      "source": [
        "Loading data from a CSV file into a Pandas DataFrame"
      ]
    },
    {
      "cell_type": "code",
      "metadata": {
        "id": "kGupV4w6tZ01"
      },
      "source": [
        "df = pd.read_csv('github_categories.csv', parse_dates=True, infer_datetime_format=True)"
      ],
      "execution_count": null,
      "outputs": []
    },
    {
      "cell_type": "markdown",
      "metadata": {
        "id": "IGQvJzHPjcfG"
      },
      "source": [
        "## Validating & Preprocessing Data"
      ]
    },
    {
      "cell_type": "markdown",
      "metadata": {
        "id": "wh_Dsvf3ZGi5"
      },
      "source": [
        "Preprocess format of date"
      ]
    },
    {
      "cell_type": "code",
      "metadata": {
        "id": "njprJMpwjbBM"
      },
      "source": [
        "df['date'] = df['date'].apply(lambda x: dt.strptime(x,\"%a %b %d %H:%M:%S %Y %z\"))"
      ],
      "execution_count": null,
      "outputs": []
    },
    {
      "cell_type": "code",
      "metadata": {
        "id": "ncYOVoA4jiSs"
      },
      "source": [
        "df['date'] = pd.to_datetime(df['date'], utc=True)"
      ],
      "execution_count": null,
      "outputs": []
    },
    {
      "cell_type": "code",
      "metadata": {
        "id": "X3494HeYjmPS"
      },
      "source": [
        "df['dday'] = df['date'].dt.date\n",
        "df['wday'] = df['date'].dt.weekday\n",
        "df['day'] = df['date'].dt.day\n",
        "df['month'] = df['date'].dt.month\n",
        "df['year'] = df['date'].dt.year\n",
        "df['hour'] = df['date'].dt.hour\n",
        "df['min'] = df['date'].dt.minute\n",
        "df['sec'] = df['date'].dt.second"
      ],
      "execution_count": null,
      "outputs": []
    },
    {
      "cell_type": "markdown",
      "metadata": {
        "id": "EU74u4i5ZRxB"
      },
      "source": [
        "Preprocess format of author, user, and email"
      ]
    },
    {
      "cell_type": "code",
      "metadata": {
        "id": "iV4xGLpHjnwa"
      },
      "source": [
        "df = df.join(df['author'].str.split('(<)',n=2,expand=True ))"
      ],
      "execution_count": null,
      "outputs": []
    },
    {
      "cell_type": "code",
      "metadata": {
        "id": "zXwfFYSejpqC"
      },
      "source": [
        "df = df.drop('author', axis=1)\n",
        "df = df.drop(1, axis=1)\n",
        "df = df.rename({0:'user', 2:'email' }, axis=1)\n",
        "df['email'] = df['email'].str.strip('>')"
      ],
      "execution_count": null,
      "outputs": []
    },
    {
      "cell_type": "markdown",
      "metadata": {
        "id": "kMD3i4Tp0EgP"
      },
      "source": [
        "Display first 5 rows of dataFrame"
      ]
    },
    {
      "cell_type": "code",
      "metadata": {
        "id": "rCkdEkEOj4iS",
        "colab": {
          "base_uri": "https://localhost:8080/",
          "height": 204
        },
        "outputId": "4840fd04-0fa2-4f3e-b955-d57b7633c44a"
      },
      "source": [
        "df.head()"
      ],
      "execution_count": null,
      "outputs": [
        {
          "output_type": "execute_result",
          "data": {
            "text/html": [
              "<div>\n",
              "<style scoped>\n",
              "    .dataframe tbody tr th:only-of-type {\n",
              "        vertical-align: middle;\n",
              "    }\n",
              "\n",
              "    .dataframe tbody tr th {\n",
              "        vertical-align: top;\n",
              "    }\n",
              "\n",
              "    .dataframe thead th {\n",
              "        text-align: right;\n",
              "    }\n",
              "</style>\n",
              "<table border=\"1\" class=\"dataframe\">\n",
              "  <thead>\n",
              "    <tr style=\"text-align: right;\">\n",
              "      <th></th>\n",
              "      <th>commit</th>\n",
              "      <th>date</th>\n",
              "      <th>message</th>\n",
              "      <th>repo</th>\n",
              "      <th>category</th>\n",
              "      <th>dday</th>\n",
              "      <th>wday</th>\n",
              "      <th>day</th>\n",
              "      <th>month</th>\n",
              "      <th>year</th>\n",
              "      <th>hour</th>\n",
              "      <th>min</th>\n",
              "      <th>sec</th>\n",
              "      <th>user</th>\n",
              "      <th>email</th>\n",
              "    </tr>\n",
              "  </thead>\n",
              "  <tbody>\n",
              "    <tr>\n",
              "      <th>0</th>\n",
              "      <td>692bba578efb5e305c9b116568e5aad75b3fdbb3</td>\n",
              "      <td>2021-04-21 04:27:07+00:00</td>\n",
              "      <td>DOC: add example for plotting asymmetrical err...</td>\n",
              "      <td>pandas-dev/pandas</td>\n",
              "      <td>fix</td>\n",
              "      <td>2021-04-21</td>\n",
              "      <td>2</td>\n",
              "      <td>21</td>\n",
              "      <td>4</td>\n",
              "      <td>2021</td>\n",
              "      <td>4</td>\n",
              "      <td>27</td>\n",
              "      <td>7</td>\n",
              "      <td>Mortada Mehyar</td>\n",
              "      <td>mortada@users.noreply.github.com</td>\n",
              "    </tr>\n",
              "    <tr>\n",
              "      <th>1</th>\n",
              "      <td>855696cde0ef5d80a7d4bd3f6a2940c5a2fecb3f</td>\n",
              "      <td>2021-04-20 23:23:07+00:00</td>\n",
              "      <td>Add keyword sort to pivot_table (#40954)</td>\n",
              "      <td>pandas-dev/pandas</td>\n",
              "      <td>other</td>\n",
              "      <td>2021-04-20</td>\n",
              "      <td>1</td>\n",
              "      <td>20</td>\n",
              "      <td>4</td>\n",
              "      <td>2021</td>\n",
              "      <td>23</td>\n",
              "      <td>23</td>\n",
              "      <td>7</td>\n",
              "      <td>Patrick Hoefler</td>\n",
              "      <td>61934744+phofl@users.noreply.github.com</td>\n",
              "    </tr>\n",
              "    <tr>\n",
              "      <th>2</th>\n",
              "      <td>eaaefd140289a5103679ac6748567f724c7be56a</td>\n",
              "      <td>2021-04-20 23:21:22+00:00</td>\n",
              "      <td>ENH: `Styler.highlight_quantile` method (#40926)</td>\n",
              "      <td>pandas-dev/pandas</td>\n",
              "      <td>other</td>\n",
              "      <td>2021-04-20</td>\n",
              "      <td>1</td>\n",
              "      <td>20</td>\n",
              "      <td>4</td>\n",
              "      <td>2021</td>\n",
              "      <td>23</td>\n",
              "      <td>21</td>\n",
              "      <td>22</td>\n",
              "      <td>attack68</td>\n",
              "      <td>24256554+attack68@users.noreply.github.com</td>\n",
              "    </tr>\n",
              "    <tr>\n",
              "      <th>3</th>\n",
              "      <td>aab87997058f3c74ba70286620ebe792ee4ef169</td>\n",
              "      <td>2021-04-20 23:01:03+00:00</td>\n",
              "      <td>ENH: add `decimal` and `thousands` args to `St...</td>\n",
              "      <td>pandas-dev/pandas</td>\n",
              "      <td>other</td>\n",
              "      <td>2021-04-20</td>\n",
              "      <td>1</td>\n",
              "      <td>20</td>\n",
              "      <td>4</td>\n",
              "      <td>2021</td>\n",
              "      <td>23</td>\n",
              "      <td>1</td>\n",
              "      <td>3</td>\n",
              "      <td>attack68</td>\n",
              "      <td>24256554+attack68@users.noreply.github.com</td>\n",
              "    </tr>\n",
              "    <tr>\n",
              "      <th>4</th>\n",
              "      <td>9c43cd7675d96174051e470de1f45e2bf7c9ebdc</td>\n",
              "      <td>2021-04-20 22:58:18+00:00</td>\n",
              "      <td>[ArrowStringArray] Use utf8_upper and utf8_low...</td>\n",
              "      <td>pandas-dev/pandas</td>\n",
              "      <td>other</td>\n",
              "      <td>2021-04-20</td>\n",
              "      <td>1</td>\n",
              "      <td>20</td>\n",
              "      <td>4</td>\n",
              "      <td>2021</td>\n",
              "      <td>22</td>\n",
              "      <td>58</td>\n",
              "      <td>18</td>\n",
              "      <td>Simon Hawkins</td>\n",
              "      <td>simonjayhawkins@gmail.com</td>\n",
              "    </tr>\n",
              "  </tbody>\n",
              "</table>\n",
              "</div>"
            ],
            "text/plain": [
              "                                     commit  ...                                       email\n",
              "0  692bba578efb5e305c9b116568e5aad75b3fdbb3  ...            mortada@users.noreply.github.com\n",
              "1  855696cde0ef5d80a7d4bd3f6a2940c5a2fecb3f  ...     61934744+phofl@users.noreply.github.com\n",
              "2  eaaefd140289a5103679ac6748567f724c7be56a  ...  24256554+attack68@users.noreply.github.com\n",
              "3  aab87997058f3c74ba70286620ebe792ee4ef169  ...  24256554+attack68@users.noreply.github.com\n",
              "4  9c43cd7675d96174051e470de1f45e2bf7c9ebdc  ...                   simonjayhawkins@gmail.com\n",
              "\n",
              "[5 rows x 15 columns]"
            ]
          },
          "metadata": {
            "tags": []
          },
          "execution_count": 18
        }
      ]
    },
    {
      "cell_type": "markdown",
      "metadata": {
        "id": "UsG0jv-T0YK-"
      },
      "source": [
        "Print distinct years in dataFrame"
      ]
    },
    {
      "cell_type": "code",
      "metadata": {
        "colab": {
          "base_uri": "https://localhost:8080/"
        },
        "id": "FY4UcpdFlDiL",
        "outputId": "e48d026d-63e6-47d9-d5ac-41c5cea06420"
      },
      "source": [
        "print(df['year'].unique())"
      ],
      "execution_count": null,
      "outputs": [
        {
          "output_type": "stream",
          "text": [
            "[2021 2020 2019 2018 2015 2017 2016 2014 2013 2012 2011 2010 2009 2008\n",
            " 2007 2006 2005 2004 2003 2002 2001 2000 1999 1998 1997 1996 1995 1994\n",
            " 1993 1992 1991 1990 1988 1974 1972 1989 2085 2037 2030 1970]\n"
          ],
          "name": "stdout"
        }
      ]
    },
    {
      "cell_type": "markdown",
      "metadata": {
        "id": "lGYUuEOVmLZB"
      },
      "source": [
        "Filter commit messages from 1990 to 2020 only"
      ]
    },
    {
      "cell_type": "code",
      "metadata": {
        "id": "wTXHOfnzkT8_"
      },
      "source": [
        "df = df[df.year >= 1990]\n",
        "df = df[df.year <= 2020]"
      ],
      "execution_count": null,
      "outputs": []
    },
    {
      "cell_type": "markdown",
      "metadata": {
        "id": "L-QzE_-8nTmr"
      },
      "source": [
        "## Exploratory Data Analysis (EDA)"
      ]
    },
    {
      "cell_type": "code",
      "metadata": {
        "id": "kQqlo23l40eD"
      },
      "source": [
        "repos = df['repo'].unique().tolist()\n",
        "categories = df['category'].unique().tolist()"
      ],
      "execution_count": null,
      "outputs": []
    },
    {
      "cell_type": "code",
      "metadata": {
        "id": "pPyoUEjipRYD"
      },
      "source": [
        "red_clr = \"#da4247\"\n",
        "orange_clr = \"#f08f49\"\n",
        "green_clr = \"#4dab8c\"\n",
        "blue_clr = \"#3d7b9d\"\n",
        "violet_clr = \"#72578e\""
      ],
      "execution_count": null,
      "outputs": []
    },
    {
      "cell_type": "markdown",
      "metadata": {
        "id": "jC-Ydd1J6ySB"
      },
      "source": [
        "Display distinct repositories"
      ]
    },
    {
      "cell_type": "code",
      "metadata": {
        "id": "8XnMF2zonTA0"
      },
      "source": [
        "print(\"Number of Distinct Repositories: \" + str(len(repos)))\n",
        "repos"
      ],
      "execution_count": null,
      "outputs": []
    },
    {
      "cell_type": "markdown",
      "metadata": {
        "id": "5LNK_qrSKgmL"
      },
      "source": [
        "Display distinct categories"
      ]
    },
    {
      "cell_type": "code",
      "metadata": {
        "id": "idw3c8DMKfeH",
        "colab": {
          "base_uri": "https://localhost:8080/"
        },
        "outputId": "feb156bd-eacf-4699-d13b-42b87303620f"
      },
      "source": [
        "print(\"Number of Distinct categories: \" + str(len(categories)))\n",
        "categories"
      ],
      "execution_count": null,
      "outputs": [
        {
          "output_type": "stream",
          "text": [
            "Number of Distinct categories: 5\n"
          ],
          "name": "stdout"
        },
        {
          "output_type": "execute_result",
          "data": {
            "text/plain": [
              "['other', 'fix', 'refactor', 'bug', 'security']"
            ]
          },
          "metadata": {
            "tags": []
          },
          "execution_count": 15
        }
      ]
    },
    {
      "cell_type": "markdown",
      "metadata": {
        "id": "aGfP9PpALSmt"
      },
      "source": [
        "Display pie chart of commit messages by category for entire dataset"
      ]
    },
    {
      "cell_type": "code",
      "metadata": {
        "id": "FVMYlkAELjGI",
        "colab": {
          "base_uri": "https://localhost:8080/",
          "height": 729
        },
        "outputId": "bbaf6f6d-8574-4f18-b42f-ca247793d12e"
      },
      "source": [
        "category_labels = []\n",
        "category_counts = []\n",
        "colors = [green_clr, orange_clr, red_clr, blue_clr, violet_clr]\n",
        "\n",
        "for category in categories:\n",
        "  category_labels.append(category)\n",
        "  category_counts.append(len(df[df.category == category]))\n",
        "\n",
        "category_fig, category_ax = plt.subplots(figsize=(10, 10))\n",
        "\n",
        "_, _, autotexts = category_ax.pie(category_counts, colors=colors, explode=(0.1, 0, 0, 0, 0), labels=category_labels, autopct='%1.1f%%', shadow=True, startangle=90, counterclock=False)\n",
        "\n",
        "for autotext in autotexts:\n",
        "    autotext.set_color('white')\n",
        "\n",
        "category_ax.set_title('Distribution of Commit Types in the Dataset')\n",
        "category_ax.axis('equal') \n",
        "plt.tight_layout()\n",
        "plt.show()"
      ],
      "execution_count": null,
      "outputs": [
        {
          "output_type": "display_data",
          "data": {
            "image/png": "[encoded data removed]",
            "text/plain": [
              "<Figure size 720x720 with 1 Axes>"
            ]
          },
          "metadata": {
            "tags": []
          }
        }
      ]
    },
    {
      "cell_type": "markdown",
      "metadata": {
        "id": "-EXz0YNstNv_"
      },
      "source": [
        "Display number of commits for each repository"
      ]
    },
    {
      "cell_type": "code",
      "metadata": {
        "id": "g3DkQS0Zn5ky"
      },
      "source": [
        "ustats = df.groupby('repo').nunique()\n",
        "ustats = ustats.sort_values(by=\"message\", ascending=False)\n",
        "ustats['message'].plot.bar(figsize=(20, 10))"
      ],
      "execution_count": null,
      "outputs": []
    },
    {
      "cell_type": "markdown",
      "metadata": {
        "id": "TG2gsA9kuT5_"
      },
      "source": [
        "Display number of commits for each repository (excluding torvald/linux and chromium/chromium)"
      ]
    },
    {
      "cell_type": "code",
      "metadata": {
        "id": "I7myGfyJuFdh"
      },
      "source": [
        "ustats.drop('torvalds/linux').drop('chromium/chromium').sort_values(by='message',ascending=False)['message'].plot.bar(figsize=(20, 10))"
      ],
      "execution_count": null,
      "outputs": []
    },
    {
      "cell_type": "markdown",
      "metadata": {
        "id": "hnqHyRnztj_A"
      },
      "source": [
        "Display number of users for each repository"
      ]
    },
    {
      "cell_type": "code",
      "metadata": {
        "id": "E_nBkYiwtiFw"
      },
      "source": [
        "ustats['user'].plot.bar(figsize=(20, 10))"
      ],
      "execution_count": null,
      "outputs": []
    },
    {
      "cell_type": "markdown",
      "metadata": {
        "id": "AVxw9GW3t87_"
      },
      "source": [
        "Display number of users for each repository (excluding torvald/linux and chromium/chromium)"
      ]
    },
    {
      "cell_type": "code",
      "metadata": {
        "id": "XAZTtJH8t4Vf"
      },
      "source": [
        "ustats.drop('torvalds/linux').drop('chromium/chromium').sort_values(by='user',ascending=False)['user'].plot.bar(figsize=(20, 10))"
      ],
      "execution_count": null,
      "outputs": []
    },
    {
      "cell_type": "markdown",
      "metadata": {
        "id": "HeUgolG8tJbX"
      },
      "source": [
        "Display number of commits and number of users for each unique repository"
      ]
    },
    {
      "cell_type": "code",
      "metadata": {
        "id": "hCoCr4Qfn9MR"
      },
      "source": [
        "fig, (ax1,ax2) = plt.subplots(2,1, figsize=(20,10))\n",
        "fig.autofmt_xdate(rotation=90)\n",
        "ax1.bar(x=ustats.index, height=ustats['message'])\n",
        "ax1.set_title('Number of Commits')\n",
        "ax2.bar(x=ustats.index, height=ustats['user'])\n",
        "ax2.set_title('Number of Users')"
      ],
      "execution_count": null,
      "outputs": []
    },
    {
      "cell_type": "markdown",
      "metadata": {
        "id": "Z_b3vd1oxBZ2"
      },
      "source": [
        "### Scatterplots for Trend of Users vs Commits"
      ]
    },
    {
      "cell_type": "code",
      "metadata": {
        "id": "-z4VlYTEza5G"
      },
      "source": [
        "import datetime\n",
        "dateparser = lambda x: pd.to_datetime(datetime.datetime.strptime(x,\"%a %b %d %H:%M:%S %Y %z\"), utc=True)\n",
        "p = 0.01 # number of rows in full file = 3240997\n",
        "newdf = pd.read_csv('github_categories.csv', \n",
        "                     parse_dates=['date'], \n",
        "                     date_parser=dateparser, \n",
        "                     usecols=['author', 'date', 'repo', 'commit', 'message'],\n",
        "                     # nrows=100,\n",
        "                     skiprows=lambda i: i > 0 and random.random() > p\n",
        "                    )"
      ],
      "execution_count": null,
      "outputs": []
    },
    {
      "cell_type": "code",
      "metadata": {
        "id": "xqxTiJkNxGUn"
      },
      "source": [
        "newdf.dropna(subset=['message'], inplace=True)\n",
        "user_commit_df = newdf.groupby('repo').nunique().sort_values('commit', ascending=False)[['commit', 'author']]\n",
        "color = {}\n",
        "for repo in set(df.repo):\n",
        "    color[repo] = '#' + ''.join([random.choice('23456789ABCD') for j in range(6)])"
      ],
      "execution_count": null,
      "outputs": []
    },
    {
      "cell_type": "markdown",
      "metadata": {
        "id": "yXbHYCEfJ30t"
      },
      "source": [
        "Display scatterplot for number of unique users vs. number of commits"
      ]
    },
    {
      "cell_type": "code",
      "metadata": {
        "id": "w4U3fPzJyJM-"
      },
      "source": [
        "scatter_fig, scatter_axis = plt.subplots(figsize=(10, 5))\n",
        "scatter_axis.scatter(user_commit_df.commit, user_commit_df.author, c=[color[repo] for repo in user_commit_df.index])\n",
        "scatter_axis.set_xlabel('Number of Commits', size=15)\n",
        "scatter_axis.set_ylabel('Number of Users', size=15)\n",
        "scatter_axis.set_title('Number of Unique Users vs. Number of Commits', size=15)\n",
        "plt.show()"
      ],
      "execution_count": null,
      "outputs": []
    },
    {
      "cell_type": "markdown",
      "metadata": {
        "id": "pkri_n6uKB31"
      },
      "source": [
        "Display scatterplot for number of unique users vs. number of commits (excluding torvalds/linux and chromium/chromium)"
      ]
    },
    {
      "cell_type": "code",
      "metadata": {
        "id": "FFBdTSml1xak"
      },
      "source": [
        "user_commit_df2 = user_commit_df.drop('torvalds/linux').drop('chromium/chromium')\n",
        "scatter_fig2, scatter_axis2 = plt.subplots(figsize=(10, 5))\n",
        "scatter_axis2.scatter(user_commit_df2.commit, user_commit_df2.author, c=[color[repo] for repo in user_commit_df2.index])\n",
        "scatter_axis2.set_xlabel('Number of Commits', size=15)\n",
        "scatter_axis2.set_ylabel('Number of Users', size=15)\n",
        "scatter_axis2.set_title('Number of Unique Users vs. Number of Commits (without torvalds/linux and chromium/chromium)', size=15)\n",
        "plt.show()"
      ],
      "execution_count": null,
      "outputs": []
    },
    {
      "cell_type": "markdown",
      "metadata": {
        "id": "IAFBA_wXvvzp"
      },
      "source": [
        "# Specific Questions"
      ]
    },
    {
      "cell_type": "code",
      "metadata": {
        "id": "V0iGIj0UsXJy"
      },
      "source": [
        "sum_df = df.copy()"
      ],
      "execution_count": null,
      "outputs": []
    },
    {
      "cell_type": "markdown",
      "metadata": {
        "id": "RbMDvvwSwsEy"
      },
      "source": [
        "### What type of commits are made on certain times of the day?"
      ]
    },
    {
      "cell_type": "code",
      "metadata": {
        "id": "DDtTHh19yo0K"
      },
      "source": [
        "hour_array = [0,1,2,3,4,5,6,7,8,9,10,11,12,13,14,15,16,17,18,19,20,21,22,23]"
      ],
      "execution_count": null,
      "outputs": []
    },
    {
      "cell_type": "markdown",
      "metadata": {
        "id": "h2-3b5oLi_az"
      },
      "source": [
        "Display number of commits by hour of day of each category across all repositories"
      ]
    },
    {
      "cell_type": "code",
      "metadata": {
        "id": "SMTnkxsMoKK1"
      },
      "source": [
        "try_df = sum_df[['hour', 'category', 'commit', 'repo']]\n",
        "dday_hour_cat_df = try_df.groupby(['repo', \"hour\", \"category\"]).count()\n",
        "dday_hour_cat_df"
      ],
      "execution_count": null,
      "outputs": []
    },
    {
      "cell_type": "markdown",
      "metadata": {
        "id": "0rnu6VK_jLo-"
      },
      "source": [
        "Display average number of commits by hour of day of each category across all repositories "
      ]
    },
    {
      "cell_type": "code",
      "metadata": {
        "id": "bWQHCn8e9gBs"
      },
      "source": [
        "avg_cat_hour = dday_hour_cat_df.groupby([\"hour\", \"category\"]).agg({'commit':'mean'})\n",
        "avg_cat_hour"
      ],
      "execution_count": null,
      "outputs": []
    },
    {
      "cell_type": "markdown",
      "metadata": {
        "id": "ytaVUyRFpn6N"
      },
      "source": [
        "Plot average total commits by hour of each category across all repositories."
      ]
    },
    {
      "cell_type": "code",
      "metadata": {
        "id": "cf7Q85KfAEH5"
      },
      "source": [
        "ax = sns.relplot(data=avg_cat_hour, x=\"hour\", y='commit', hue=\"category\", kind=\"line\", height=12, aspect=1.5, linewidth = 5).set(xticks = hour_array)\n",
        "ax.set(ylabel='Commits', xlabel='Hour of Day')\n",
        "plt.title('Total Hourly Commit by Different Commit Types')\n",
        "plt.show()"
      ],
      "execution_count": null,
      "outputs": []
    },
    {
      "cell_type": "markdown",
      "metadata": {
        "id": "iEMdIXtVGoRj"
      },
      "source": [
        "Create a stacked bar for viewing the total commit types and the different commit types."
      ]
    },
    {
      "cell_type": "code",
      "metadata": {
        "id": "F2scAT0lnIrw"
      },
      "source": [
        "new_plt = plt"
      ],
      "execution_count": null,
      "outputs": []
    },
    {
      "cell_type": "code",
      "metadata": {
        "id": "K-RR0ITonIrx"
      },
      "source": [
        "hour_other_cats = try_df[try_df.category == \"other\"]\n",
        "hour_refactor_cats = try_df[try_df.category == \"refactor\"]\n",
        "hour_fix_cats = try_df[try_df.category == \"fix\"]\n",
        "hour_bug_cats = try_df[try_df.category == \"bug\"]"
      ],
      "execution_count": null,
      "outputs": []
    },
    {
      "cell_type": "code",
      "metadata": {
        "id": "peSQnT4lnIrx"
      },
      "source": [
        "bottom1_bar_data = hour_other_cats\n",
        "bottom1_bar_data = bottom1_bar_data.groupby([\"repo\",\"hour\", \"category\"]).count()\n",
        "bottom1_bar_data = bottom1_bar_data.groupby([\"hour\"]).agg({'commit':'sum'}).reset_index()\n",
        "bottom1_bar_data"
      ],
      "execution_count": null,
      "outputs": []
    },
    {
      "cell_type": "code",
      "metadata": {
        "id": "-M5vk-fdnIry"
      },
      "source": [
        "bottom2_bar_data = pd.concat([hour_other_cats, hour_refactor_cats])\n",
        "bottom2_bar_data = bottom2_bar_data.groupby([\"repo\",\"hour\", \"category\"]).count()\n",
        "bottom2_bar_data = bottom2_bar_data.groupby([\"hour\"]).agg({'commit':'sum'}).reset_index()\n",
        "bottom2_bar_data"
      ],
      "execution_count": null,
      "outputs": []
    },
    {
      "cell_type": "code",
      "metadata": {
        "id": "AubOQ86hnIry"
      },
      "source": [
        "bottom3_bar_data = pd.concat([hour_other_cats, hour_refactor_cats, hour_fix_cats])\n",
        "bottom3_bar_data = bottom3_bar_data.groupby([\"repo\",\"hour\", \"category\"]).count()\n",
        "bottom3_bar_data = bottom3_bar_data.groupby([\"hour\"]).agg({'commit':'sum'}).reset_index()\n",
        "bottom3_bar_data"
      ],
      "execution_count": null,
      "outputs": []
    },
    {
      "cell_type": "code",
      "metadata": {
        "id": "_LySAiItnIry"
      },
      "source": [
        "bottom4_bar_data = pd.concat([hour_other_cats, hour_refactor_cats, hour_fix_cats, hour_bug_cats])\n",
        "bottom4_bar_data = bottom4_bar_data.groupby([\"repo\",\"hour\", \"category\"]).count()\n",
        "bottom4_bar_data = bottom4_bar_data.groupby([\"hour\"]).agg({'commit':'sum'}).reset_index()\n",
        "bottom4_bar_data"
      ],
      "execution_count": null,
      "outputs": []
    },
    {
      "cell_type": "code",
      "metadata": {
        "id": "KOwLK6iDnIry"
      },
      "source": [
        "hour_total_cats = try_df.groupby([\"repo\",\"hour\", \"category\"]).count()\n",
        "hour_total_cats = hour_total_cats.groupby([\"hour\"]).agg({'commit':'sum'}).reset_index()\n",
        "hour_total_cats"
      ],
      "execution_count": null,
      "outputs": []
    },
    {
      "cell_type": "code",
      "metadata": {
        "id": "k_N3nq85nIrz"
      },
      "source": [
        "hour_fig_dims = (12, 10)\n",
        "hour_fig, hour_ax = new_plt.subplots(figsize=hour_fig_dims)\n",
        "hour_ax.set_title('Total Hourly Commit with Different Commit Types')\n",
        "\n",
        "hour_top_bar = sns.barplot(x=\"hour\",  y=\"commit\", data=hour_total_cats, color=violet_clr, ax=hour_ax)\n",
        "hour_top_bar4 = sns.barplot(x=\"hour\",  y=\"commit\", data=bottom4_bar_data , color=blue_clr, ax=hour_ax)\n",
        "hour_top_bar3 = sns.barplot(x=\"hour\",  y=\"commit\", data=bottom3_bar_data , color=orange_clr, ax=hour_ax)\n",
        "hour_top_bar2 = sns.barplot(x=\"hour\",  y=\"commit\", data=bottom2_bar_data , color=red_clr, ax=hour_ax)\n",
        "hour_top_bar1 = sns.barplot(x=\"hour\",  y=\"commit\", data=bottom1_bar_data , color=green_clr, ax=hour_ax)\n",
        "\n",
        "hour_bar = mpatches.Patch(color=violet_clr, label='Security Commits')\n",
        "hour_bar4 = mpatches.Patch(color=blue_clr, label='Bug Commits')\n",
        "hour_bar3 = mpatches.Patch(color=orange_clr, label='Fix Commits')\n",
        "hour_bar2 = mpatches.Patch(color=red_clr, label='Refactor Commits')\n",
        "hour_bar1 = mpatches.Patch(color=green_clr, label='Others Commits')\n",
        "new_plt.legend(handles=[hour_bar,hour_bar4,hour_bar3,hour_bar2,hour_bar1], bbox_to_anchor=(1.05, 1), loc=2, borderaxespad=0.)\n",
        "new_plt.ylabel('Total Commits')\n",
        "new_plt.xlabel('Hour of Day')\n",
        "new_plt.show()"
      ],
      "execution_count": null,
      "outputs": []
    },
    {
      "cell_type": "markdown",
      "metadata": {
        "id": "liNomIgKG6lx"
      },
      "source": [
        "Display total hourly commit types for each repository"
      ]
    },
    {
      "cell_type": "code",
      "metadata": {
        "id": "lGpcsmVNnWLt"
      },
      "source": [
        "new_plt = plt\n",
        "for idx, repo in enumerate(df['repo'].unique()):\n",
        "  try_df = sum_df[sum_df.repo == repo]\n",
        "  try_df = try_df[['hour', 'category', 'commit', 'repo']]\n",
        "  dday_hour_cat_df = try_df.groupby(['repo', \"hour\", \"category\"]).count()\n",
        "  ax = sns.relplot(x=\"hour\", y=\"commit\", hue=\"category\", kind=\"line\", col=\"repo\", data=dday_hour_cat_df, height=12, aspect=1.5, linewidth = 5).set(xticks = hour_array)\n",
        "  ax.set(ylabel='Commits', xlabel='Hour of Day')\n",
        "  new_plt.title(f'Total Hourly Commit by Different Commit Types for {repo}')\n",
        "  new_plt.show()"
      ],
      "execution_count": null,
      "outputs": []
    },
    {
      "cell_type": "markdown",
      "metadata": {
        "id": "-3WO8zVjsG1z"
      },
      "source": [
        "Filter time frame for pre-pandemic and during pandemic"
      ]
    },
    {
      "cell_type": "code",
      "metadata": {
        "id": "rk6mHLwh6lIW"
      },
      "source": [
        "def categorize_commit_pandemic(sample):\n",
        "  if sample['year'] >= 2020:\n",
        "    if sample['month'] >= 4:\n",
        "      return 'during pandemic'\n",
        "    else:\n",
        "      return 'pre-pandemic'\n",
        "  else:\n",
        "    return 'pre-pandemic'"
      ],
      "execution_count": null,
      "outputs": []
    },
    {
      "cell_type": "code",
      "metadata": {
        "id": "OrHG3wlL7Ckb"
      },
      "source": [
        "timeframe_df = sum_df.copy()\n",
        "timeframe_df = timeframe_df[['dday','hour', 'category', 'commit', 'year', 'month']]\n",
        "timeframe_df['time_frame'] = timeframe_df.apply(categorize_commit_pandemic, axis=1)\n",
        "timeframe_df"
      ],
      "execution_count": null,
      "outputs": []
    },
    {
      "cell_type": "code",
      "metadata": {
        "id": "_sYb6yiH9fmj"
      },
      "source": [
        "pre_pandemic_timeframe_df = timeframe_df[timeframe_df.time_frame == \"pre-pandemic\"]\n",
        "pre_pandemic_timeframe_df = pre_pandemic_timeframe_df.groupby(['dday',\"hour\", \"time_frame\"]).count()\n",
        "pre_pandemic_timeframe_df = pre_pandemic_timeframe_df.groupby([\"hour\", \"time_frame\"]).agg({'commit':'mean'}).reset_index()\n",
        "pre_pandemic_timeframe_df"
      ],
      "execution_count": null,
      "outputs": []
    },
    {
      "cell_type": "code",
      "metadata": {
        "id": "w0_3JKW8Ef_o"
      },
      "source": [
        "during_pandemic_timeframe_df = timeframe_df[timeframe_df.time_frame == \"during pandemic\"]\n",
        "during_pandemic_timeframe_df = during_pandemic_timeframe_df.groupby(['dday',\"hour\", \"time_frame\"]).count()\n",
        "during_pandemic_timeframe_df = during_pandemic_timeframe_df.groupby([\"hour\", \"time_frame\"]).agg({'commit':'mean'}).reset_index()\n",
        "during_pandemic_timeframe_df"
      ],
      "execution_count": null,
      "outputs": []
    },
    {
      "cell_type": "markdown",
      "metadata": {
        "id": "acfavqWtHBgD"
      },
      "source": [
        "Study commit patterns throughout the day in pre-pandemic and during pandemic period.\n",
        "\n"
      ]
    },
    {
      "cell_type": "code",
      "metadata": {
        "id": "V6wOpHFi9B0K"
      },
      "source": [
        "new_plt = plt\n",
        "f, (ax1, ax2) = new_plt.subplots(1, 2, sharey=False,figsize=(30,10))\n",
        "\n",
        "\n",
        "ax1.plot(pre_pandemic_timeframe_df.hour, pre_pandemic_timeframe_df.commit,  color='green')\n",
        "ax1.set_xticks(hour_array)\n",
        "ax1.set_title('Average Hourly Commit Pre-Pandemic')\n",
        "ax1.set_ylabel('Average Hourly Commits')\n",
        "ax1.set_xlabel('Hour of Day')\n",
        "\n",
        "ax2.plot(during_pandemic_timeframe_df.hour, during_pandemic_timeframe_df.commit, color='orange')\n",
        "ax2.set_xticks(hour_array)\n",
        "ax2.set_title('Average Hourly Commit During Pandemic')\n",
        "ax2.set_ylabel('Average Hourly Commits')\n",
        "ax2.set_xlabel('Hour of Day')\n",
        "\n",
        "new_plt.show()"
      ],
      "execution_count": null,
      "outputs": []
    },
    {
      "cell_type": "markdown",
      "metadata": {
        "id": "5vqBqgr-wiwk"
      },
      "source": [
        "### What type of commits are made on certain days of the week?"
      ]
    },
    {
      "cell_type": "markdown",
      "metadata": {
        "id": "LiMIIKeV3MRh"
      },
      "source": [
        "Legend:\n",
        "*   0 - Monday\n",
        "*   1 - Tuesday\n",
        "*   2 - Wednesday\n",
        "*   3 - Thursday\n",
        "*   4 - Friday\n",
        "*   5 - Saturday\n",
        "*   6 - Sunday\n",
        "\n"
      ]
    },
    {
      "cell_type": "code",
      "metadata": {
        "id": "x3oxbDPUHPpS"
      },
      "source": [
        "weekday_array = [0,1,2,3,4,5,6]"
      ],
      "execution_count": null,
      "outputs": []
    },
    {
      "cell_type": "markdown",
      "metadata": {
        "id": "ebV141g72_Oi"
      },
      "source": [
        "Display number of commits by day of week of each category across all repositories"
      ]
    },
    {
      "cell_type": "code",
      "metadata": {
        "id": "nhi2B7MFHc6n"
      },
      "source": [
        "week_df = sum_df[[\"repo\",'wday', 'category', 'commit']]\n",
        "wday_cat_df = week_df.groupby([\"repo\",\"wday\", \"category\"]).count()\n",
        "wday_cat_df"
      ],
      "execution_count": null,
      "outputs": []
    },
    {
      "cell_type": "markdown",
      "metadata": {
        "id": "XrDuwAzj3EtX"
      },
      "source": [
        "Display average number of commits by day of week of each category across all repositories"
      ]
    },
    {
      "cell_type": "code",
      "metadata": {
        "id": "7JBP6dnZKrik"
      },
      "source": [
        "avg_cat_wday = wday_cat_df.groupby([\"wday\", \"category\"]).agg({'commit':'mean'})\n",
        "avg_cat_wday"
      ],
      "execution_count": null,
      "outputs": []
    },
    {
      "cell_type": "markdown",
      "metadata": {
        "id": "bmgmfcvP3ocT"
      },
      "source": [
        "Display total day of week commit by different commit types"
      ]
    },
    {
      "cell_type": "code",
      "metadata": {
        "id": "qdaDYwkOK4rE"
      },
      "source": [
        "ax = sns.relplot(data=avg_cat_wday, x=\"wday\", y='commit', hue=\"category\", kind=\"line\", height=12, aspect=1.5, linewidth = 5).set(xticks = weekday_array)\n",
        "ax.set(ylabel='Commits', xlabel='Hour of Day')\n",
        "plt.title('Total Day of Week Commit by Different Commit Types')\n",
        "plt.show()"
      ],
      "execution_count": null,
      "outputs": []
    },
    {
      "cell_type": "markdown",
      "metadata": {
        "id": "uSm4z-nXd8OG"
      },
      "source": [
        "Create a stacked bar for viewing the total commit types and the different commit types."
      ]
    },
    {
      "cell_type": "code",
      "metadata": {
        "id": "pb31KQL6ZquA"
      },
      "source": [
        "new_plt = plt"
      ],
      "execution_count": null,
      "outputs": []
    },
    {
      "cell_type": "code",
      "metadata": {
        "id": "lOvIOl_oeFVP"
      },
      "source": [
        "wday_other_cats = week_df[week_df.category == \"other\"]\n",
        "wday_refactor_cats = week_df[week_df.category == \"refactor\"]\n",
        "wday_fix_cats = week_df[week_df.category == \"fix\"]\n",
        "wday_bug_cats = week_df[week_df.category == \"bug\"]"
      ],
      "execution_count": null,
      "outputs": []
    },
    {
      "cell_type": "code",
      "metadata": {
        "id": "ZTizZVyDZ0u3"
      },
      "source": [
        "bottom1_bar_data = wday_other_cats\n",
        "bottom1_bar_data = bottom1_bar_data.groupby([\"repo\",\"wday\", \"category\"]).count()\n",
        "bottom1_bar_data = bottom1_bar_data.groupby([\"wday\"]).agg({'commit':'sum'}).reset_index()\n",
        "bottom1_bar_data"
      ],
      "execution_count": null,
      "outputs": []
    },
    {
      "cell_type": "code",
      "metadata": {
        "id": "UK0Y2d6Cek1v"
      },
      "source": [
        "bottom2_bar_data = pd.concat([wday_other_cats, wday_refactor_cats])\n",
        "bottom2_bar_data = bottom2_bar_data.groupby([\"repo\",\"wday\", \"category\"]).count()\n",
        "bottom2_bar_data = bottom2_bar_data.groupby([\"wday\"]).agg({'commit':'sum'}).reset_index()\n",
        "bottom2_bar_data"
      ],
      "execution_count": null,
      "outputs": []
    },
    {
      "cell_type": "code",
      "metadata": {
        "id": "q1BWJtreeqZX"
      },
      "source": [
        "bottom3_bar_data = pd.concat([wday_other_cats, wday_refactor_cats, wday_fix_cats])\n",
        "bottom3_bar_data = bottom3_bar_data.groupby([\"repo\",\"wday\", \"category\"]).count()\n",
        "bottom3_bar_data = bottom3_bar_data.groupby([\"wday\"]).agg({'commit':'sum'}).reset_index()\n",
        "bottom3_bar_data"
      ],
      "execution_count": null,
      "outputs": []
    },
    {
      "cell_type": "code",
      "metadata": {
        "id": "dU2YjmwOe1VX"
      },
      "source": [
        "bottom4_bar_data = pd.concat([wday_other_cats, wday_refactor_cats, wday_fix_cats, wday_bug_cats])\n",
        "bottom4_bar_data = bottom4_bar_data.groupby([\"repo\",\"wday\", \"category\"]).count()\n",
        "bottom4_bar_data = bottom4_bar_data.groupby([\"wday\"]).agg({'commit':'sum'}).reset_index()\n",
        "bottom4_bar_data"
      ],
      "execution_count": null,
      "outputs": []
    },
    {
      "cell_type": "code",
      "metadata": {
        "id": "oImESkj1aXZa"
      },
      "source": [
        "wday_total_cats = week_df.groupby([\"repo\",\"wday\", \"category\"]).count()\n",
        "wday_total_cats = wday_total_cats.groupby([\"wday\"]).agg({'commit':'sum'}).reset_index()\n",
        "wday_total_cats"
      ],
      "execution_count": null,
      "outputs": []
    },
    {
      "cell_type": "code",
      "metadata": {
        "id": "UuQm_xxTa-o6"
      },
      "source": [
        "wday_fig_dims = (12, 10)\n",
        "wday_fig, wday_ax = new_plt.subplots(figsize=wday_fig_dims)\n",
        "wday_ax.set_title('Total Daily per Week Commit with Different Commit Types')\n",
        "wday_top_bar = sns.barplot(x=\"wday\",  y=\"commit\", data=wday_total_cats, color=violet_clr, ax=wday_ax)\n",
        "wday_top_bar4 = sns.barplot(x=\"wday\",  y=\"commit\", data=bottom4_bar_data , color=blue_clr, ax=wday_ax)\n",
        "wday_top_bar3 = sns.barplot(x=\"wday\",  y=\"commit\", data=bottom3_bar_data , color=orange_clr, ax=wday_ax)\n",
        "wday_top_bar2 = sns.barplot(x=\"wday\",  y=\"commit\", data=bottom2_bar_data , color=red_clr, ax=wday_ax)\n",
        "wday_top_bar1 = sns.barplot(x=\"wday\",  y=\"commit\", data=bottom1_bar_data , color=green_clr, ax=wday_ax)\n",
        "\n",
        "wday_bar = mpatches.Patch(color=violet_clr, label='Security Commits')\n",
        "wday_bar4 = mpatches.Patch(color=blue_clr, label='Bug Commits')\n",
        "wday_bar3 = mpatches.Patch(color=orange_clr, label='Fix Commits')\n",
        "wday_bar2 = mpatches.Patch(color=red_clr, label='Refactor Commits')\n",
        "wday_bar1 = mpatches.Patch(color=green_clr, label='Others Commits')\n",
        "new_plt.legend(handles=[wday_bar,wday_bar4,wday_bar3,wday_bar2,wday_bar1], bbox_to_anchor=(1.05, 1), loc=2, borderaxespad=0.)\n",
        "new_plt.ylabel('Total Commits')\n",
        "new_plt.xlabel('Day of Week')\n",
        "new_plt.show()"
      ],
      "execution_count": null,
      "outputs": []
    },
    {
      "cell_type": "markdown",
      "metadata": {
        "id": "GLEEDYBb4KUP"
      },
      "source": [
        "Display total daily per week commit by different commit types for each repository"
      ]
    },
    {
      "cell_type": "code",
      "metadata": {
        "id": "WhtOmEzCHIHl"
      },
      "source": [
        "new_plt = plt\n",
        "for idx, repo in enumerate(df['repo'].unique()):\n",
        "  week_df = sum_df[sum_df.repo == repo]\n",
        "  week_df = week_df[[\"repo\",'wday', 'category', 'commit']]\n",
        "  wday_cat_df = week_df.groupby([\"repo\",\"wday\", \"category\"]).count()\n",
        "  ax = sns.relplot(x=\"wday\", y=\"commit\", hue=\"category\", kind=\"line\", col=\"repo\", data=wday_cat_df, height=12, aspect=1.5, linewidth = 5).set(xticks = weekday_array)\n",
        "  ax.set(ylabel='Commits', xlabel='Day of Week')\n",
        "  new_plt.title(f'Total Daily per Week Commit by Different Commit Types for {repo}')\n",
        "  new_plt.show()"
      ],
      "execution_count": null,
      "outputs": []
    },
    {
      "cell_type": "markdown",
      "metadata": {
        "id": "c2oZuKb830h3"
      },
      "source": [
        "### When, at the duration of the project, are most commits made?\n",
        "\n"
      ]
    },
    {
      "cell_type": "markdown",
      "metadata": {
        "id": "j4eIluFEIa8n"
      },
      "source": [
        "Plot sum of commit messages for each repository"
      ]
    },
    {
      "cell_type": "code",
      "metadata": {
        "id": "9Z5Bv0UYgySa"
      },
      "source": [
        "new_plt = plt\n",
        "for idx, repo in enumerate(df['repo'].unique()):\n",
        "  try_df = sum_df[sum_df.repo == repo]\n",
        "  try_df = try_df[['dday','hour', 'category', 'commit', 'repo']]\n",
        "  dday_hour_cat_df = try_df.groupby(['repo', 'dday']).count()\n",
        "  ax = sns.relplot(x=\"dday\", y=\"commit\", kind=\"line\", data=dday_hour_cat_df, height=6, aspect=4)\n",
        "  ax.set(ylabel='Commits', xlabel='Time')\n",
        "  new_plt.title(f'Daily Commits Across the Timeline for {repo}')\n",
        "  new_plt.show()"
      ],
      "execution_count": null,
      "outputs": []
    },
    {
      "cell_type": "markdown",
      "metadata": {
        "id": "-nUB4FyZgp8J"
      },
      "source": [
        "Plot sum of commit messages by commit type for each repository"
      ]
    },
    {
      "cell_type": "code",
      "metadata": {
        "id": "aNTEAuvWaWnT"
      },
      "source": [
        "new_plt = plt\n",
        "for idx, repo in enumerate(df['repo'].unique()):\n",
        "  try_df = sum_df[sum_df.repo == repo]\n",
        "  try_df = try_df[['dday','hour', 'category', 'commit', 'repo']]\n",
        "  dday_hour_cat_df = try_df.groupby(['repo', 'dday', \"category\"]).count()\n",
        "  ax = sns.relplot(x=\"dday\", y=\"commit\", hue=\"category\", kind=\"line\", data=dday_hour_cat_df, height=6, aspect=4)\n",
        "  ax.set(ylabel='Commits', xlabel='Time')\n",
        "  new_plt.title(f'Daily Commits of Different Commit Types Across the Timeline for {repo}')\n",
        "  new_plt.show()"
      ],
      "execution_count": null,
      "outputs": []
    },
    {
      "cell_type": "markdown",
      "metadata": {
        "id": "TC1YmzUdHUkS"
      },
      "source": [
        "### Inference on users cross-contributing across different projects"
      ]
    },
    {
      "cell_type": "markdown",
      "metadata": {
        "id": "LAH_97dU69Gp"
      },
      "source": [
        "Generate heatmap dataframe of user cross distribution"
      ]
    },
    {
      "cell_type": "code",
      "metadata": {
        "id": "NvVNMD0wJ2Qy"
      },
      "source": [
        "heatmap_df = pd.DataFrame(index=repos, columns=repos)\n",
        "for i in range(len(repos)):\n",
        "    for j in range(len(repos)):\n",
        "        k = df[df.repo.isin([repos[i], repos[j]])].groupby('user').repo.nunique()\n",
        "        if i != j:\n",
        "            heatmap_df.iloc[i, j] = set(k[k>1].index)\n",
        "        else:\n",
        "            heatmap_df.iloc[i, j] = set(k.index)\n",
        "\n",
        "for i in range(len(repos)):\n",
        "    all_authors = heatmap_df.iloc[i].tolist()\n",
        "    del all_authors[i]\n",
        "    mix_authors = set(set().union(*all_authors))\n",
        "    heatmap_df.iloc[i, i] = heatmap_df.iloc[i, i] - mix_authors\n",
        "\n",
        "heatmap_df = heatmap_df.applymap(len)\n",
        "heatmap_df"
      ],
      "execution_count": null,
      "outputs": []
    },
    {
      "cell_type": "markdown",
      "metadata": {
        "id": "1pFXikRr7KkA"
      },
      "source": [
        "Display user cross contribution heatmap"
      ]
    },
    {
      "cell_type": "code",
      "metadata": {
        "id": "NDznT1-GLLyh"
      },
      "source": [
        "new_sns = sns\n",
        "new_sns.set(font_scale=1.5)\n",
        "new_plt = plt\n",
        "fig, ax = new_plt.subplots(figsize=(40,40))\n",
        "\n",
        "p = new_sns.heatmap(heatmap_df,\n",
        "                cmap='coolwarm',\n",
        "                center = 1800,\n",
        "                vmin=0, vmax=4000,\n",
        "                annot=True,\n",
        "                fmt='d',\n",
        "                annot_kws={'size':16})\n",
        "\n",
        "new_plt.title(\"User Cross Contribution Heatmap\", fontsize = 72, color='Black')\n",
        "new_plt.ylabel('Repo', fontsize = 24)"
      ],
      "execution_count": null,
      "outputs": []
    }
  ]
}