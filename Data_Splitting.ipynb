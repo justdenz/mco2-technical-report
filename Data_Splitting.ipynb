{
  "nbformat": 4,
  "nbformat_minor": 0,
  "metadata": {
    "colab": {
      "name": "Data Splitting.ipynb",
      "provenance": [],
      "authorship_tag": "ABX9TyNo4L2/oKGjf3RpXfXx/v1G",
      "include_colab_link": true
    },
    "kernelspec": {
      "name": "python3",
      "display_name": "Python 3"
    },
    "language_info": {
      "name": "python"
    }
  },
  "cells": [
    {
      "cell_type": "markdown",
      "metadata": {
        "id": "view-in-github",
        "colab_type": "text"
      },
      "source": [
        "<a href=\"https://colab.research.google.com/github/justdenz/mco2-technical-report/blob/main/Data_Splitting.ipynb\" target=\"_parent\"><img src=\"https://colab.research.google.com/assets/colab-badge.svg\" alt=\"Open In Colab\"/></a>"
      ]
    },
    {
      "cell_type": "code",
      "metadata": {
        "colab": {
          "base_uri": "https://localhost:8080/"
        },
        "id": "7pTm9wSChVMf",
        "outputId": "472ac235-fd07-40da-d9e1-adfb9738abac"
      },
      "source": [
        "!gdown https://drive.google.com/uc?id=1--pKwP_HX1f4HIr5DBigK8oCSGUwwNrR"
      ],
      "execution_count": null,
      "outputs": [
        {
          "output_type": "stream",
          "text": [
            "Downloading...\n",
            "From: https://drive.google.com/uc?id=1--pKwP_HX1f4HIr5DBigK8oCSGUwwNrR\n",
            "To: /content/github_training.csv\n",
            "2.13GB [00:18, 115MB/s]\n"
          ],
          "name": "stdout"
        }
      ]
    },
    {
      "cell_type": "code",
      "metadata": {
        "id": "nfyQIxb0ndd5"
      },
      "source": [
        "import pandas as pd\n",
        "from sklearn.model_selection import train_test_split"
      ],
      "execution_count": null,
      "outputs": []
    },
    {
      "cell_type": "code",
      "metadata": {
        "id": "7UoSHMk7nuY2"
      },
      "source": [
        "df = pd.read_csv('github_training.csv')\n",
        "df = df.sample(frac=0.025)\n",
        "train_csv, test_csv = train_test_split(df, test_size=0.10)"
      ],
      "execution_count": null,
      "outputs": []
    },
    {
      "cell_type": "code",
      "metadata": {
        "colab": {
          "base_uri": "https://localhost:8080/"
        },
        "id": "Gav2vrG3oGh7",
        "outputId": "f1cf9ff4-73a9-471a-bf38-d49b456f0bcf"
      },
      "source": [
        "len(train_csv), len(test_csv)"
      ],
      "execution_count": null,
      "outputs": [
        {
          "output_type": "execute_result",
          "data": {
            "text/plain": [
              "(97566, 10841)"
            ]
          },
          "metadata": {
            "tags": []
          },
          "execution_count": 16
        }
      ]
    },
    {
      "cell_type": "code",
      "metadata": {
        "colab": {
          "base_uri": "https://localhost:8080/"
        },
        "id": "9uyn-1dqqPlW",
        "outputId": "78047f80-ef9c-44b3-bde1-f71745db1a0f"
      },
      "source": [
        "from google.colab import drive\n",
        "drive.mount('/content/drive')"
      ],
      "execution_count": null,
      "outputs": [
        {
          "output_type": "stream",
          "text": [
            "Mounted at /content/drive\n"
          ],
          "name": "stdout"
        }
      ]
    },
    {
      "cell_type": "code",
      "metadata": {
        "id": "dsWaWichpusj"
      },
      "source": [
        "train_csv.dropna().to_csv('train.csv', index=False)\n",
        "test_csv.dropna().to_csv('demo.csv', index=False)\n",
        "!cp train.csv \"drive/My Drive/\"\n",
        "!cp demo.csv \"drive/My Drive/\""
      ],
      "execution_count": null,
      "outputs": []
    }
  ]
}